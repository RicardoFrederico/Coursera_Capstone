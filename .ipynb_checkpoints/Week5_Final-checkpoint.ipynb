{
 "cells": [
  {
   "cell_type": "markdown",
   "id": "brave-hayes",
   "metadata": {},
   "source": [
    "One of the most important steps in our project was choosing the area on which we would do our study, finally we decided to study all the cities within a 20 kilometer radius from Bad Homburg vor der Höhe. \n",
    "\n",
    "This posed a problem, since our study is based on latitude and longitude coordinates, the larger area cities would be underrepresented.\n",
    "\n",
    "\n",
    "In order to try to solve the aforementioned problem we decided on using postal codes for the larger cities such as Bad Homburg vor der Höhe, Frankfurt am Main and Offenbach am Main, this was further supported by seing that the smaller cities would usually only have one postal code.\n",
    "\n",
    "Using the https://www.suche-postleitzahl.org/ website we built a excel file to support our analysis.\n",
    "\n",
    "Before continuing I would like to make a *caveat*, this work will be conducted in English, but the main data was collected on german websites, so some translations might not be up to par, we are sorry for that."
   ]
  },
  {
   "cell_type": "markdown",
   "id": "occupied-composition",
   "metadata": {},
   "source": [
    "1. Loading the data"
   ]
  },
  {
   "cell_type": "code",
   "execution_count": 1,
   "id": "royal-reward",
   "metadata": {},
   "outputs": [
    {
     "data": {
      "text/html": [
       "<div>\n",
       "<style scoped>\n",
       "    .dataframe tbody tr th:only-of-type {\n",
       "        vertical-align: middle;\n",
       "    }\n",
       "\n",
       "    .dataframe tbody tr th {\n",
       "        vertical-align: top;\n",
       "    }\n",
       "\n",
       "    .dataframe thead th {\n",
       "        text-align: right;\n",
       "    }\n",
       "</style>\n",
       "<table border=\"1\" class=\"dataframe\">\n",
       "  <thead>\n",
       "    <tr style=\"text-align: right;\">\n",
       "      <th></th>\n",
       "      <th>PLZ</th>\n",
       "      <th>Ortsteile</th>\n",
       "      <th>Ort</th>\n",
       "      <th>Landkreis</th>\n",
       "      <th>einwohner</th>\n",
       "    </tr>\n",
       "  </thead>\n",
       "  <tbody>\n",
       "    <tr>\n",
       "      <th>0</th>\n",
       "      <td>65520</td>\n",
       "      <td>Bad Camberg</td>\n",
       "      <td>Bad Camberg</td>\n",
       "      <td>Landkreis Limburg-Weilburg</td>\n",
       "      <td>13931</td>\n",
       "    </tr>\n",
       "    <tr>\n",
       "      <th>1</th>\n",
       "      <td>61348</td>\n",
       "      <td>Bad Homburg vor der Höhe</td>\n",
       "      <td>Bad Homburg vor der Höhe</td>\n",
       "      <td>Hochtaunuskreis</td>\n",
       "      <td>13333</td>\n",
       "    </tr>\n",
       "    <tr>\n",
       "      <th>2</th>\n",
       "      <td>61352</td>\n",
       "      <td>Bad Homburg vor der Höhe</td>\n",
       "      <td>Bad Homburg vor der Höhe</td>\n",
       "      <td>Hochtaunuskreis</td>\n",
       "      <td>16594</td>\n",
       "    </tr>\n",
       "    <tr>\n",
       "      <th>3</th>\n",
       "      <td>61350</td>\n",
       "      <td>Bad Homburg vor der Höhe</td>\n",
       "      <td>Bad Homburg vor der Höhe</td>\n",
       "      <td>Hochtaunuskreis</td>\n",
       "      <td>21470</td>\n",
       "    </tr>\n",
       "    <tr>\n",
       "      <th>4</th>\n",
       "      <td>61231</td>\n",
       "      <td>Bad Nauheim</td>\n",
       "      <td>Bad Nauheim</td>\n",
       "      <td>Wetteraukreis</td>\n",
       "      <td>30209</td>\n",
       "    </tr>\n",
       "  </tbody>\n",
       "</table>\n",
       "</div>"
      ],
      "text/plain": [
       "     PLZ                 Ortsteile                       Ort  \\\n",
       "0  65520               Bad Camberg               Bad Camberg   \n",
       "1  61348  Bad Homburg vor der Höhe  Bad Homburg vor der Höhe   \n",
       "2  61352  Bad Homburg vor der Höhe  Bad Homburg vor der Höhe   \n",
       "3  61350  Bad Homburg vor der Höhe  Bad Homburg vor der Höhe   \n",
       "4  61231               Bad Nauheim               Bad Nauheim   \n",
       "\n",
       "                    Landkreis  einwohner  \n",
       "0  Landkreis Limburg-Weilburg      13931  \n",
       "1             Hochtaunuskreis      13333  \n",
       "2             Hochtaunuskreis      16594  \n",
       "3             Hochtaunuskreis      21470  \n",
       "4               Wetteraukreis      30209  "
      ]
     },
     "execution_count": 1,
     "metadata": {},
     "output_type": "execute_result"
    }
   ],
   "source": [
    "import pandas as pd\n",
    "import numpy as np\n",
    "import matplotlib as mpl\n",
    "import matplotlib.pyplot as plt\n",
    "%matplotlib inline\n",
    "\n",
    "mpl.style.use('ggplot') # optional: for ggplot-like style\n",
    "\n",
    "\n",
    "pd.set_option('display.max_columns', None)\n",
    "pd.set_option('display.max_rows', None)\n",
    "\n",
    "df = pd.read_excel(\"cities_ag.xlsx\", sheet_name=\"Folha1\")\n",
    "#df = pd.read_csv(\"cities_ag1.csv\", sep=';', encoding=\"utf-8\")\n",
    "\n",
    "df.head()"
   ]
  },
  {
   "cell_type": "markdown",
   "id": "apparent-payday",
   "metadata": {},
   "source": [
    "For clarity a brief explanation of the columns names is in order: \n",
    "\n",
    "PLZ - Postal code \n",
    "\n",
    "Ortsteile - city district ( in the larger cities in accordance to the source, some postal codes represent several districts)\n",
    "\n",
    "Ort - municipality\n",
    "\n",
    "Landkreis - administrativ district\n",
    "\n",
    "einwohner - inhabitants"
   ]
  },
  {
   "cell_type": "markdown",
   "id": "saved-contemporary",
   "metadata": {},
   "source": [
    "2. Exploring the data"
   ]
  },
  {
   "cell_type": "code",
   "execution_count": 2,
   "id": "aboriginal-organization",
   "metadata": {},
   "outputs": [
    {
     "data": {
      "text/html": [
       "<div>\n",
       "<style scoped>\n",
       "    .dataframe tbody tr th:only-of-type {\n",
       "        vertical-align: middle;\n",
       "    }\n",
       "\n",
       "    .dataframe tbody tr th {\n",
       "        vertical-align: top;\n",
       "    }\n",
       "\n",
       "    .dataframe thead th {\n",
       "        text-align: right;\n",
       "    }\n",
       "</style>\n",
       "<table border=\"1\" class=\"dataframe\">\n",
       "  <thead>\n",
       "    <tr style=\"text-align: right;\">\n",
       "      <th></th>\n",
       "      <th>PLZ</th>\n",
       "      <th>Ortsteile</th>\n",
       "      <th>Ort</th>\n",
       "      <th>Landkreis</th>\n",
       "      <th>einwohner</th>\n",
       "    </tr>\n",
       "  </thead>\n",
       "  <tbody>\n",
       "    <tr>\n",
       "      <th>count</th>\n",
       "      <td>96.000000</td>\n",
       "      <td>96</td>\n",
       "      <td>96</td>\n",
       "      <td>96</td>\n",
       "      <td>96.000000</td>\n",
       "    </tr>\n",
       "    <tr>\n",
       "      <th>unique</th>\n",
       "      <td>NaN</td>\n",
       "      <td>90</td>\n",
       "      <td>51</td>\n",
       "      <td>9</td>\n",
       "      <td>NaN</td>\n",
       "    </tr>\n",
       "    <tr>\n",
       "      <th>top</th>\n",
       "      <td>NaN</td>\n",
       "      <td>Bad Homburg vor der Höhe</td>\n",
       "      <td>Frankfurt am Main</td>\n",
       "      <td>kreisfreie Stadt</td>\n",
       "      <td>NaN</td>\n",
       "    </tr>\n",
       "    <tr>\n",
       "      <th>freq</th>\n",
       "      <td>NaN</td>\n",
       "      <td>3</td>\n",
       "      <td>39</td>\n",
       "      <td>48</td>\n",
       "      <td>NaN</td>\n",
       "    </tr>\n",
       "    <tr>\n",
       "      <th>mean</th>\n",
       "      <td>61807.239583</td>\n",
       "      <td>NaN</td>\n",
       "      <td>NaN</td>\n",
       "      <td>NaN</td>\n",
       "      <td>16720.812500</td>\n",
       "    </tr>\n",
       "    <tr>\n",
       "      <th>std</th>\n",
       "      <td>3409.574441</td>\n",
       "      <td>NaN</td>\n",
       "      <td>NaN</td>\n",
       "      <td>NaN</td>\n",
       "      <td>9472.599752</td>\n",
       "    </tr>\n",
       "    <tr>\n",
       "      <th>min</th>\n",
       "      <td>35510.000000</td>\n",
       "      <td>NaN</td>\n",
       "      <td>NaN</td>\n",
       "      <td>NaN</td>\n",
       "      <td>0.000000</td>\n",
       "    </tr>\n",
       "    <tr>\n",
       "      <th>25%</th>\n",
       "      <td>60436.500000</td>\n",
       "      <td>NaN</td>\n",
       "      <td>NaN</td>\n",
       "      <td>NaN</td>\n",
       "      <td>9295.000000</td>\n",
       "    </tr>\n",
       "    <tr>\n",
       "      <th>50%</th>\n",
       "      <td>61204.500000</td>\n",
       "      <td>NaN</td>\n",
       "      <td>NaN</td>\n",
       "      <td>NaN</td>\n",
       "      <td>15895.500000</td>\n",
       "    </tr>\n",
       "    <tr>\n",
       "      <th>75%</th>\n",
       "      <td>63097.500000</td>\n",
       "      <td>NaN</td>\n",
       "      <td>NaN</td>\n",
       "      <td>NaN</td>\n",
       "      <td>21649.250000</td>\n",
       "    </tr>\n",
       "    <tr>\n",
       "      <th>max</th>\n",
       "      <td>65936.000000</td>\n",
       "      <td>NaN</td>\n",
       "      <td>NaN</td>\n",
       "      <td>NaN</td>\n",
       "      <td>44125.000000</td>\n",
       "    </tr>\n",
       "  </tbody>\n",
       "</table>\n",
       "</div>"
      ],
      "text/plain": [
       "                 PLZ                 Ortsteile                Ort  \\\n",
       "count      96.000000                        96                 96   \n",
       "unique           NaN                        90                 51   \n",
       "top              NaN  Bad Homburg vor der Höhe  Frankfurt am Main   \n",
       "freq             NaN                         3                 39   \n",
       "mean    61807.239583                       NaN                NaN   \n",
       "std      3409.574441                       NaN                NaN   \n",
       "min     35510.000000                       NaN                NaN   \n",
       "25%     60436.500000                       NaN                NaN   \n",
       "50%     61204.500000                       NaN                NaN   \n",
       "75%     63097.500000                       NaN                NaN   \n",
       "max     65936.000000                       NaN                NaN   \n",
       "\n",
       "               Landkreis     einwohner  \n",
       "count                 96     96.000000  \n",
       "unique                 9           NaN  \n",
       "top     kreisfreie Stadt           NaN  \n",
       "freq                  48           NaN  \n",
       "mean                 NaN  16720.812500  \n",
       "std                  NaN   9472.599752  \n",
       "min                  NaN      0.000000  \n",
       "25%                  NaN   9295.000000  \n",
       "50%                  NaN  15895.500000  \n",
       "75%                  NaN  21649.250000  \n",
       "max                  NaN  44125.000000  "
      ]
     },
     "execution_count": 2,
     "metadata": {},
     "output_type": "execute_result"
    }
   ],
   "source": [
    "df.describe(include='all')"
   ]
  },
  {
   "cell_type": "code",
   "execution_count": 3,
   "id": "worldwide-rapid",
   "metadata": {},
   "outputs": [
    {
     "name": "stdout",
     "output_type": "stream",
     "text": [
      "<class 'pandas.core.frame.DataFrame'>\n",
      "RangeIndex: 96 entries, 0 to 95\n",
      "Data columns (total 5 columns):\n",
      " #   Column     Non-Null Count  Dtype \n",
      "---  ------     --------------  ----- \n",
      " 0   PLZ        96 non-null     int64 \n",
      " 1   Ortsteile  96 non-null     object\n",
      " 2   Ort        96 non-null     object\n",
      " 3   Landkreis  96 non-null     object\n",
      " 4   einwohner  96 non-null     int64 \n",
      "dtypes: int64(2), object(3)\n",
      "memory usage: 3.9+ KB\n"
     ]
    }
   ],
   "source": [
    "df.info()"
   ]
  },
  {
   "cell_type": "markdown",
   "id": "individual-logic",
   "metadata": {},
   "source": [
    "Checking to see if there ar any null values"
   ]
  },
  {
   "cell_type": "code",
   "execution_count": 4,
   "id": "continuing-playlist",
   "metadata": {},
   "outputs": [
    {
     "data": {
      "text/plain": [
       "PLZ          0.0\n",
       "Ortsteile    0.0\n",
       "Ort          0.0\n",
       "Landkreis    0.0\n",
       "einwohner    0.0\n",
       "dtype: float64"
      ]
     },
     "execution_count": 4,
     "metadata": {},
     "output_type": "execute_result"
    }
   ],
   "source": [
    "#check if null values exist\n",
    "df.isnull().sum()*100/df.shape[0]"
   ]
  },
  {
   "cell_type": "markdown",
   "id": "palestinian-funds",
   "metadata": {},
   "source": [
    "Before doing any changes to the data let's create a copy so we can always refer to the first loaded data\n",
    "\n",
    "The first data manipulation we will apply is to change the postal code column type from integer to string. This data as seen above is considered to be numeric, but it should be categorical."
   ]
  },
  {
   "cell_type": "code",
   "execution_count": 5,
   "id": "useful-silence",
   "metadata": {},
   "outputs": [],
   "source": [
    "#create a copy\n",
    "am_df = df.copy()"
   ]
  },
  {
   "cell_type": "code",
   "execution_count": 6,
   "id": "innovative-madagascar",
   "metadata": {},
   "outputs": [
    {
     "name": "stdout",
     "output_type": "stream",
     "text": [
      "<class 'pandas.core.frame.DataFrame'>\n",
      "RangeIndex: 96 entries, 0 to 95\n",
      "Data columns (total 5 columns):\n",
      " #   Column     Non-Null Count  Dtype \n",
      "---  ------     --------------  ----- \n",
      " 0   PLZ        96 non-null     object\n",
      " 1   Ortsteile  96 non-null     object\n",
      " 2   Ort        96 non-null     object\n",
      " 3   Landkreis  96 non-null     object\n",
      " 4   einwohner  96 non-null     int64 \n",
      "dtypes: int64(1), object(4)\n",
      "memory usage: 3.9+ KB\n"
     ]
    }
   ],
   "source": [
    "#change PLZ to string\n",
    "am_df['PLZ'] = am_df['PLZ'].astype(str)\n",
    "\n",
    "#set PLZ as index - DELETE\n",
    "#am_df.set_index('PLZ', inplace=True)\n",
    "\n",
    "am_df.info()"
   ]
  },
  {
   "cell_type": "markdown",
   "id": "cooked-journal",
   "metadata": {},
   "source": [
    "Focusing in the habitants (einwohner) column"
   ]
  },
  {
   "cell_type": "code",
   "execution_count": 7,
   "id": "elementary-comfort",
   "metadata": {},
   "outputs": [
    {
     "data": {
      "text/html": [
       "<div>\n",
       "<style scoped>\n",
       "    .dataframe tbody tr th:only-of-type {\n",
       "        vertical-align: middle;\n",
       "    }\n",
       "\n",
       "    .dataframe tbody tr th {\n",
       "        vertical-align: top;\n",
       "    }\n",
       "\n",
       "    .dataframe thead th {\n",
       "        text-align: right;\n",
       "    }\n",
       "</style>\n",
       "<table border=\"1\" class=\"dataframe\">\n",
       "  <thead>\n",
       "    <tr style=\"text-align: right;\">\n",
       "      <th></th>\n",
       "      <th>einwohner</th>\n",
       "    </tr>\n",
       "  </thead>\n",
       "  <tbody>\n",
       "    <tr>\n",
       "      <th>count</th>\n",
       "      <td>96.000000</td>\n",
       "    </tr>\n",
       "    <tr>\n",
       "      <th>mean</th>\n",
       "      <td>16720.812500</td>\n",
       "    </tr>\n",
       "    <tr>\n",
       "      <th>std</th>\n",
       "      <td>9472.599752</td>\n",
       "    </tr>\n",
       "    <tr>\n",
       "      <th>min</th>\n",
       "      <td>0.000000</td>\n",
       "    </tr>\n",
       "    <tr>\n",
       "      <th>25%</th>\n",
       "      <td>9295.000000</td>\n",
       "    </tr>\n",
       "    <tr>\n",
       "      <th>50%</th>\n",
       "      <td>15895.500000</td>\n",
       "    </tr>\n",
       "    <tr>\n",
       "      <th>75%</th>\n",
       "      <td>21649.250000</td>\n",
       "    </tr>\n",
       "    <tr>\n",
       "      <th>max</th>\n",
       "      <td>44125.000000</td>\n",
       "    </tr>\n",
       "  </tbody>\n",
       "</table>\n",
       "</div>"
      ],
      "text/plain": [
       "          einwohner\n",
       "count     96.000000\n",
       "mean   16720.812500\n",
       "std     9472.599752\n",
       "min        0.000000\n",
       "25%     9295.000000\n",
       "50%    15895.500000\n",
       "75%    21649.250000\n",
       "max    44125.000000"
      ]
     },
     "execution_count": 7,
     "metadata": {},
     "output_type": "execute_result"
    }
   ],
   "source": [
    "#describe numeric variable\n",
    "am_df[['einwohner']].describe()"
   ]
  },
  {
   "cell_type": "markdown",
   "id": "grand-pierre",
   "metadata": {},
   "source": [
    "As we can see in our 96 areas the average inhabitants number is 16720, the minimum value is 0 and the maximum is 44125."
   ]
  },
  {
   "cell_type": "code",
   "execution_count": 8,
   "id": "korean-activity",
   "metadata": {},
   "outputs": [],
   "source": [
    "ein_hist = am_df[['einwohner']].copy()"
   ]
  },
  {
   "cell_type": "code",
   "execution_count": 9,
   "id": "documentary-webcam",
   "metadata": {},
   "outputs": [
    {
     "data": {
      "text/plain": [
       "array([[<AxesSubplot:title={'center':'einwohner'}>]], dtype=object)"
      ]
     },
     "execution_count": 9,
     "metadata": {},
     "output_type": "execute_result"
    },
    {
     "data": {
      "image/png": "[encoded data removed]",
      "text/plain": [
       "<Figure size 432x288 with 1 Axes>"
      ]
     },
     "metadata": {},
     "output_type": "display_data"
    }
   ],
   "source": [
    "ein_hist.hist()"
   ]
  },
  {
   "cell_type": "markdown",
   "id": "adequate-coaching",
   "metadata": {},
   "source": [
    "Grouping the areas to see the real number of habitants"
   ]
  },
  {
   "cell_type": "code",
   "execution_count": 10,
   "id": "dedicated-antenna",
   "metadata": {},
   "outputs": [
    {
     "data": {
      "text/html": [
       "<div>\n",
       "<style scoped>\n",
       "    .dataframe tbody tr th:only-of-type {\n",
       "        vertical-align: middle;\n",
       "    }\n",
       "\n",
       "    .dataframe tbody tr th {\n",
       "        vertical-align: top;\n",
       "    }\n",
       "\n",
       "    .dataframe thead th {\n",
       "        text-align: right;\n",
       "    }\n",
       "</style>\n",
       "<table border=\"1\" class=\"dataframe\">\n",
       "  <thead>\n",
       "    <tr style=\"text-align: right;\">\n",
       "      <th></th>\n",
       "      <th>einwohner</th>\n",
       "    </tr>\n",
       "    <tr>\n",
       "      <th>Ort</th>\n",
       "      <th></th>\n",
       "    </tr>\n",
       "  </thead>\n",
       "  <tbody>\n",
       "    <tr>\n",
       "      <th>Frankfurt am Main</th>\n",
       "      <td>668287</td>\n",
       "    </tr>\n",
       "    <tr>\n",
       "      <th>Offenbach am Main</th>\n",
       "      <td>113241</td>\n",
       "    </tr>\n",
       "    <tr>\n",
       "      <th>Bad Homburg vor der Höhe</th>\n",
       "      <td>51397</td>\n",
       "    </tr>\n",
       "    <tr>\n",
       "      <th>Oberursel</th>\n",
       "      <td>44125</td>\n",
       "    </tr>\n",
       "    <tr>\n",
       "      <th>Hofheim am Taunus</th>\n",
       "      <td>37735</td>\n",
       "    </tr>\n",
       "    <tr>\n",
       "      <th>Maintal</th>\n",
       "      <td>35827</td>\n",
       "    </tr>\n",
       "    <tr>\n",
       "      <th>Neu-Isenburg</th>\n",
       "      <td>34716</td>\n",
       "    </tr>\n",
       "    <tr>\n",
       "      <th>Idstein, Hünstetten</th>\n",
       "      <td>33269</td>\n",
       "    </tr>\n",
       "    <tr>\n",
       "      <th>Bad Vilbel</th>\n",
       "      <td>31268</td>\n",
       "    </tr>\n",
       "    <tr>\n",
       "      <th>Bad Nauheim</th>\n",
       "      <td>30209</td>\n",
       "    </tr>\n",
       "    <tr>\n",
       "      <th>Kelkheim</th>\n",
       "      <td>27670</td>\n",
       "    </tr>\n",
       "    <tr>\n",
       "      <th>Friedberg (Hessen)</th>\n",
       "      <td>27355</td>\n",
       "    </tr>\n",
       "    <tr>\n",
       "      <th>Mühlheim am Main</th>\n",
       "      <td>26967</td>\n",
       "    </tr>\n",
       "    <tr>\n",
       "      <th>Hattersheim</th>\n",
       "      <td>24747</td>\n",
       "    </tr>\n",
       "    <tr>\n",
       "      <th>Friedrichsdorf</th>\n",
       "      <td>24223</td>\n",
       "    </tr>\n",
       "    <tr>\n",
       "      <th>Butzbach</th>\n",
       "      <td>23912</td>\n",
       "    </tr>\n",
       "    <tr>\n",
       "      <th>Bad Soden am Taunus</th>\n",
       "      <td>21203</td>\n",
       "    </tr>\n",
       "    <tr>\n",
       "      <th>Karben</th>\n",
       "      <td>21144</td>\n",
       "    </tr>\n",
       "    <tr>\n",
       "      <th>Eschborn</th>\n",
       "      <td>20317</td>\n",
       "    </tr>\n",
       "    <tr>\n",
       "      <th>Nidderau</th>\n",
       "      <td>19874</td>\n",
       "    </tr>\n",
       "    <tr>\n",
       "      <th>Kronberg</th>\n",
       "      <td>17793</td>\n",
       "    </tr>\n",
       "    <tr>\n",
       "      <th>Königstein</th>\n",
       "      <td>15711</td>\n",
       "    </tr>\n",
       "    <tr>\n",
       "      <th>Hanau</th>\n",
       "      <td>14749</td>\n",
       "    </tr>\n",
       "    <tr>\n",
       "      <th>Schwalbach am Taunus</th>\n",
       "      <td>14729</td>\n",
       "    </tr>\n",
       "    <tr>\n",
       "      <th>Neu-Anspach</th>\n",
       "      <td>14710</td>\n",
       "    </tr>\n",
       "    <tr>\n",
       "      <th>Niedernhausen</th>\n",
       "      <td>14408</td>\n",
       "    </tr>\n",
       "    <tr>\n",
       "      <th>Bad Camberg</th>\n",
       "      <td>13931</td>\n",
       "    </tr>\n",
       "    <tr>\n",
       "      <th>Usingen</th>\n",
       "      <td>13329</td>\n",
       "    </tr>\n",
       "    <tr>\n",
       "      <th>Eppstein</th>\n",
       "      <td>13327</td>\n",
       "    </tr>\n",
       "    <tr>\n",
       "      <th>Kelsterbach</th>\n",
       "      <td>13315</td>\n",
       "    </tr>\n",
       "    <tr>\n",
       "      <th>Rosbach v. d. Höhe</th>\n",
       "      <td>11931</td>\n",
       "    </tr>\n",
       "    <tr>\n",
       "      <th>Schöneck</th>\n",
       "      <td>11633</td>\n",
       "    </tr>\n",
       "    <tr>\n",
       "      <th>Kriftel</th>\n",
       "      <td>10580</td>\n",
       "    </tr>\n",
       "    <tr>\n",
       "      <th>Steinbach</th>\n",
       "      <td>10058</td>\n",
       "    </tr>\n",
       "    <tr>\n",
       "      <th>Niddatal</th>\n",
       "      <td>9302</td>\n",
       "    </tr>\n",
       "    <tr>\n",
       "      <th>Wehrheim</th>\n",
       "      <td>9274</td>\n",
       "    </tr>\n",
       "    <tr>\n",
       "      <th>Schmitten</th>\n",
       "      <td>8849</td>\n",
       "    </tr>\n",
       "    <tr>\n",
       "      <th>Florstadt</th>\n",
       "      <td>8786</td>\n",
       "    </tr>\n",
       "    <tr>\n",
       "      <th>Liederbach am Taunus</th>\n",
       "      <td>8688</td>\n",
       "    </tr>\n",
       "    <tr>\n",
       "      <th>Sulzbach (Taunus)</th>\n",
       "      <td>8304</td>\n",
       "    </tr>\n",
       "    <tr>\n",
       "      <th>Reichelsheim</th>\n",
       "      <td>6778</td>\n",
       "    </tr>\n",
       "    <tr>\n",
       "      <th>Weilrod</th>\n",
       "      <td>6277</td>\n",
       "    </tr>\n",
       "    <tr>\n",
       "      <th>Wöllstadt</th>\n",
       "      <td>6123</td>\n",
       "    </tr>\n",
       "    <tr>\n",
       "      <th>Ober-Mörlen</th>\n",
       "      <td>5762</td>\n",
       "    </tr>\n",
       "    <tr>\n",
       "      <th>Glashütten</th>\n",
       "      <td>5234</td>\n",
       "    </tr>\n",
       "    <tr>\n",
       "      <th>Waldems</th>\n",
       "      <td>5210</td>\n",
       "    </tr>\n",
       "    <tr>\n",
       "      <th>Grävenwiesbach</th>\n",
       "      <td>5194</td>\n",
       "    </tr>\n",
       "    <tr>\n",
       "      <th>Niederdorfelden</th>\n",
       "      <td>3727</td>\n",
       "    </tr>\n",
       "    <tr>\n",
       "      <th>Frankfurt am Main (Omniturm)</th>\n",
       "      <td>0</td>\n",
       "    </tr>\n",
       "    <tr>\n",
       "      <th>Frankfurt am Main (Opernturm)</th>\n",
       "      <td>0</td>\n",
       "    </tr>\n",
       "    <tr>\n",
       "      <th>Frankfurt am Main (Taunusturm)</th>\n",
       "      <td>0</td>\n",
       "    </tr>\n",
       "  </tbody>\n",
       "</table>\n",
       "</div>"
      ],
      "text/plain": [
       "                                einwohner\n",
       "Ort                                      \n",
       "Frankfurt am Main                  668287\n",
       "Offenbach am Main                  113241\n",
       "Bad Homburg vor der Höhe            51397\n",
       "Oberursel                           44125\n",
       "Hofheim am Taunus                   37735\n",
       "Maintal                             35827\n",
       "Neu-Isenburg                        34716\n",
       "Idstein, Hünstetten                 33269\n",
       "Bad Vilbel                          31268\n",
       "Bad Nauheim                         30209\n",
       "Kelkheim                            27670\n",
       "Friedberg (Hessen)                  27355\n",
       "Mühlheim am Main                    26967\n",
       "Hattersheim                         24747\n",
       "Friedrichsdorf                      24223\n",
       "Butzbach                            23912\n",
       "Bad Soden am Taunus                 21203\n",
       "Karben                              21144\n",
       "Eschborn                            20317\n",
       "Nidderau                            19874\n",
       "Kronberg                            17793\n",
       "Königstein                          15711\n",
       "Hanau                               14749\n",
       "Schwalbach am Taunus                14729\n",
       "Neu-Anspach                         14710\n",
       "Niedernhausen                       14408\n",
       "Bad Camberg                         13931\n",
       "Usingen                             13329\n",
       "Eppstein                            13327\n",
       "Kelsterbach                         13315\n",
       "Rosbach v. d. Höhe                  11931\n",
       "Schöneck                            11633\n",
       "Kriftel                             10580\n",
       "Steinbach                           10058\n",
       "Niddatal                             9302\n",
       "Wehrheim                             9274\n",
       "Schmitten                            8849\n",
       "Florstadt                            8786\n",
       "Liederbach am Taunus                 8688\n",
       "Sulzbach (Taunus)                    8304\n",
       "Reichelsheim                         6778\n",
       "Weilrod                              6277\n",
       "Wöllstadt                            6123\n",
       "Ober-Mörlen                          5762\n",
       "Glashütten                           5234\n",
       "Waldems                              5210\n",
       "Grävenwiesbach                       5194\n",
       "Niederdorfelden                      3727\n",
       "Frankfurt am Main (Omniturm)            0\n",
       "Frankfurt am Main (Opernturm)           0\n",
       "Frankfurt am Main (Taunusturm)          0"
      ]
     },
     "execution_count": 10,
     "metadata": {},
     "output_type": "execute_result"
    }
   ],
   "source": [
    "grouped_df = am_df.groupby(by=[\"Ort\"], dropna=False).sum()\n",
    "grouped_df.sort_values(['einwohner'],ascending=False)"
   ]
  },
  {
   "cell_type": "code",
   "execution_count": 11,
   "id": "dependent-alfred",
   "metadata": {},
   "outputs": [
    {
     "name": "stdout",
     "output_type": "stream",
     "text": [
      "Total number of inhabitants: 1605198\n"
     ]
    }
   ],
   "source": [
    "print(\"Total number of inhabitants:\", am_df['einwohner'].sum())"
   ]
  },
  {
   "cell_type": "markdown",
   "id": "consecutive-plumbing",
   "metadata": {},
   "source": [
    "Graphing Habitants (eihnwohner) variable"
   ]
  },
  {
   "cell_type": "code",
   "execution_count": 16,
   "id": "electric-stranger",
   "metadata": {},
   "outputs": [],
   "source": [
    "graph_df = am_df[['PLZ','Ort','einwohner']].copy()"
   ]
  },
  {
   "cell_type": "code",
   "execution_count": 17,
   "id": "clinical-monster",
   "metadata": {},
   "outputs": [],
   "source": [
    "graph_df['PLZ_Ort'] = graph_df[['PLZ', 'Ort']].agg('-'.join, axis=1)"
   ]
  },
  {
   "cell_type": "code",
   "execution_count": 18,
   "id": "legendary-carpet",
   "metadata": {},
   "outputs": [],
   "source": [
    "graph_df.set_index('PLZ_Ort', inplace=True)\n",
    "graph_df.drop(['PLZ','Ort'], axis=1, inplace=True)"
   ]
  },
  {
   "cell_type": "code",
   "execution_count": 19,
   "id": "protecting-parallel",
   "metadata": {},
   "outputs": [
    {
     "data": {
      "text/html": [
       "<div>\n",
       "<style scoped>\n",
       "    .dataframe tbody tr th:only-of-type {\n",
       "        vertical-align: middle;\n",
       "    }\n",
       "\n",
       "    .dataframe tbody tr th {\n",
       "        vertical-align: top;\n",
       "    }\n",
       "\n",
       "    .dataframe thead th {\n",
       "        text-align: right;\n",
       "    }\n",
       "</style>\n",
       "<table border=\"1\" class=\"dataframe\">\n",
       "  <thead>\n",
       "    <tr style=\"text-align: right;\">\n",
       "      <th></th>\n",
       "      <th>einwohner</th>\n",
       "    </tr>\n",
       "    <tr>\n",
       "      <th>PLZ_Ort</th>\n",
       "      <th></th>\n",
       "    </tr>\n",
       "  </thead>\n",
       "  <tbody>\n",
       "    <tr>\n",
       "      <th>65520-Bad Camberg</th>\n",
       "      <td>13931</td>\n",
       "    </tr>\n",
       "    <tr>\n",
       "      <th>61348-Bad Homburg vor der Höhe</th>\n",
       "      <td>13333</td>\n",
       "    </tr>\n",
       "    <tr>\n",
       "      <th>61352-Bad Homburg vor der Höhe</th>\n",
       "      <td>16594</td>\n",
       "    </tr>\n",
       "    <tr>\n",
       "      <th>61350-Bad Homburg vor der Höhe</th>\n",
       "      <td>21470</td>\n",
       "    </tr>\n",
       "    <tr>\n",
       "      <th>61231-Bad Nauheim</th>\n",
       "      <td>30209</td>\n",
       "    </tr>\n",
       "  </tbody>\n",
       "</table>\n",
       "</div>"
      ],
      "text/plain": [
       "                                einwohner\n",
       "PLZ_Ort                                  \n",
       "65520-Bad Camberg                   13931\n",
       "61348-Bad Homburg vor der Höhe      13333\n",
       "61352-Bad Homburg vor der Höhe      16594\n",
       "61350-Bad Homburg vor der Höhe      21470\n",
       "61231-Bad Nauheim                   30209"
      ]
     },
     "execution_count": 19,
     "metadata": {},
     "output_type": "execute_result"
    }
   ],
   "source": [
    "graph_df.head()"
   ]
  },
  {
   "cell_type": "code",
   "execution_count": 27,
   "id": "focal-wildlife",
   "metadata": {},
   "outputs": [
    {
     "data": {
      "image/png": "[encoded data removed]",
      "text/plain": [
       "<Figure size 1800x720 with 1 Axes>"
      ]
     },
     "metadata": {},
     "output_type": "display_data"
    }
   ],
   "source": [
    "graph_df.plot(kind='bar',\n",
    "             figsize=(25, 10))\n",
    "\n",
    "plt.title('Location Habitants')\n",
    "plt.ylabel('Number of habitants')\n",
    "plt.xlabel('Postal Codes + Place')\n",
    "\n",
    "plt.show()"
   ]
  },
  {
   "cell_type": "markdown",
   "id": "seeing-lodging",
   "metadata": {},
   "source": [
    "From the analysis we reach the conclusion that there are areas where we don't have inhabitants, so we decided that we will drop the correspondent rows. \n",
    "\n",
    "We will drop all places which have less than 100 inhabitants, this number is arbitrarily defined to exclude low density areas wich will probably have fewer amenities to study and where it should be impossible to purchase a home."
   ]
  },
  {
   "cell_type": "code",
   "execution_count": 36,
   "id": "graduate-plumbing",
   "metadata": {},
   "outputs": [
    {
     "name": "stdout",
     "output_type": "stream",
     "text": [
      "New dataset:  (91, 5)\n"
     ]
    }
   ],
   "source": [
    "#let's drop all rows with less than 100 persons\n",
    "am_df.drop(am_df.loc[am_df['einwohner']<100].index, inplace=True)\n",
    "print(\"New dataset: \",am_df.shape)"
   ]
  },
  {
   "cell_type": "markdown",
   "id": "critical-childhood",
   "metadata": {},
   "source": [
    "Enumerating the number of areas to study"
   ]
  },
  {
   "cell_type": "code",
   "execution_count": null,
   "id": "hollywood-leonard",
   "metadata": {},
   "outputs": [],
   "source": [
    "am_df.groupby(['Ort'])['PLZ'].count().to_frame()"
   ]
  },
  {
   "cell_type": "markdown",
   "id": "rational-alaska",
   "metadata": {},
   "source": [
    "1. 45 City centers \n",
    "2. 37 Frankfurt am Main postal codes areas\n",
    "3. 06 Offenbach am Main postal codes areas\n",
    "4. 03 Bad Homburg vor der Höhe postal codes areas \n",
    "\n",
    "\n",
    "Total of 91 areas to search amenities"
   ]
  },
  {
   "cell_type": "markdown",
   "id": "written-absolute",
   "metadata": {},
   "source": [
    "**Getting the coordinates**"
   ]
  },
  {
   "cell_type": "markdown",
   "id": "valid-peripheral",
   "metadata": {},
   "source": [
    "To get the coordinates we are going to use the Nominatim api and acess the Openstreetmap database.\n",
    "\n",
    "We will find latitude and longitude for each city center and postal code area (Frankfurt am Main, Bad Homburg vor der Höhe and Offenbach am Main)"
   ]
  },
  {
   "cell_type": "code",
   "execution_count": 37,
   "id": "leading-visibility",
   "metadata": {},
   "outputs": [],
   "source": [
    "from geopy.geocoders import Nominatim\n",
    "from geopy.extra.rate_limiter import RateLimiter\n",
    "\n",
    "geocoder = Nominatim(user_agent=\"hg_explorer\")\n",
    "geocode = RateLimiter(geocoder.geocode, min_delay_seconds = 1,   return_value_on_exception = None)\n",
    "\n",
    "def custom_geocoder(postal,local):\n",
    "    if(local in ['Frankfurt am Main', 'Bad Homburg vor der Höhe', 'Offenbach am Main']):\n",
    "        address1 = str(postal) + \" Deutschland\"\n",
    "        location = geocode(address1)\n",
    "    #    return pd.Series({'Latitude': location.latitude, 'Longitude': location.longitude})\n",
    "    else:\n",
    "        address1 = str(local) + \", Hessen\"\n",
    "        location = geocode(address1)\n",
    "    return pd.Series({'Latitude': location.latitude, 'Longitude': location.longitude})\n",
    "\n",
    "am_df[['latitude' , 'longitude']] = am_df[['PLZ','Ort']].apply(lambda x: custom_geocoder(x['PLZ'], x['Ort']), axis=1)\n",
    "\n",
    "#[['PLZ','Ort']]\n",
    "\n",
    "#df['CustomRating'] = df.apply(lambda x: custom_rating(x['Genre'],x['Rating']),axis=1)"
   ]
  },
  {
   "cell_type": "markdown",
   "id": "psychological-tuition",
   "metadata": {},
   "source": [
    "Let's see what we got"
   ]
  },
  {
   "cell_type": "code",
   "execution_count": null,
   "id": "august-invite",
   "metadata": {},
   "outputs": [],
   "source": [
    "am_df"
   ]
  },
  {
   "cell_type": "markdown",
   "id": "noticed-advice",
   "metadata": {},
   "source": [
    "Next we are going to explore the distance between the diferent points we collected by creating a distance matrix.\n",
    "\n",
    "For this distance matrix we will be using the haversine (or great circle) distance wich is the angular distance between two points on the surface of a sphere."
   ]
  },
  {
   "cell_type": "code",
   "execution_count": null,
   "id": "numerical-diagnosis",
   "metadata": {},
   "outputs": [],
   "source": [
    "#distance matrix\n",
    "from sklearn.neighbors import DistanceMetric\n",
    "from math import radians\n",
    "import numpy as np\n",
    "\n",
    "matrix = am_df[['PLZ', 'Ort','latitude','longitude']].copy()"
   ]
  },
  {
   "cell_type": "code",
   "execution_count": null,
   "id": "nominated-clarity",
   "metadata": {},
   "outputs": [],
   "source": [
    "matrix['PLZ_Ort'] = matrix[['PLZ', 'Ort']].agg('-'.join, axis=1)"
   ]
  },
  {
   "cell_type": "code",
   "execution_count": null,
   "id": "binary-david",
   "metadata": {},
   "outputs": [],
   "source": [
    "matrix.drop(['PLZ','Ort'], axis=1, inplace=True)"
   ]
  },
  {
   "cell_type": "code",
   "execution_count": null,
   "id": "convinced-disclaimer",
   "metadata": {},
   "outputs": [],
   "source": [
    "matrix['latitude'] = np.radians(matrix['latitude'])\n",
    "matrix['longitude'] = np.radians(matrix['longitude'])"
   ]
  },
  {
   "cell_type": "code",
   "execution_count": null,
   "id": "popular-vitamin",
   "metadata": {},
   "outputs": [],
   "source": [
    "dist = DistanceMetric.get_metric('haversine')"
   ]
  },
  {
   "cell_type": "code",
   "execution_count": null,
   "id": "serial-manner",
   "metadata": {},
   "outputs": [],
   "source": [
    "pd.DataFrame(dist.pairwise(matrix[['latitude','longitude']].to_numpy())*6371,  columns=matrix.PLZ_Ort.unique(), index=matrix.PLZ_Ort.unique()).round(decimals=2)"
   ]
  },
  {
   "cell_type": "markdown",
   "id": "rough-bride",
   "metadata": {},
   "source": [
    "This distance matrix show us the shortest distance in kilometers between two points on a sphere (Earth) using their latitudes and longitudes measured along the surface. It is important for use in navigation."
   ]
  },
  {
   "cell_type": "markdown",
   "id": "fewer-feelings",
   "metadata": {},
   "source": [
    "2. Now lets see our areas of study in a map"
   ]
  },
  {
   "cell_type": "code",
   "execution_count": null,
   "id": "cloudy-parking",
   "metadata": {},
   "outputs": [],
   "source": [
    "def get_center_latlong(df):\n",
    "    # get the center of my map for plotting\n",
    "    centerlat = (am_df['latitude'].max() + am_df['latitude'].min()) / 2\n",
    "    centerlong = (am_df['longitude'].max() + am_df['longitude'].min()) / 2\n",
    "    return centerlat, centerlong\n",
    "\n",
    "center = get_center_latlong(am_df)"
   ]
  },
  {
   "cell_type": "code",
   "execution_count": null,
   "id": "assumed-reason",
   "metadata": {},
   "outputs": [],
   "source": [
    "import folium\n",
    "#from branca.element import Figure\n",
    "\n",
    "#fig2=Figure(width=550,height=350)\n",
    "\n",
    "map_target = folium.Map(location=center, zoom_start=10, tiles=\"Stamen Toner\")\n",
    "\n",
    "# add markers to map\n",
    "for lat, lng, ort, orts, plz in zip(am_df['latitude'], am_df['longitude'], am_df['Ort'], am_df['Ortsteile'], am_df['PLZ']):\n",
    "    if(ort in ['Frankfurt am Main', 'Offenbach am Main']):\n",
    "        label = '{}, {}, {}'.format(ort, orts, plz)\n",
    "        label = folium.Popup(label, parse_html=True)\n",
    "        folium.Circle([lat, lng],\n",
    "                      radius=500,\n",
    "                      popup=label,\n",
    "                      color='red',\n",
    "                      fill=True,\n",
    "                      fill_color='#f73447',\n",
    "                      fill_opacity=0.7,\n",
    "                      parse_html=False).add_to(map_target)\n",
    "    else:\n",
    "        label = '{}, {}, {}'.format(ort, orts, plz)\n",
    "        label = folium.Popup(label, parse_html=True)\n",
    "        folium.Circle([lat, lng],\n",
    "                      radius=1000,\n",
    "                      popup=label,\n",
    "                      color='blue',\n",
    "                      fill=True,\n",
    "                      fill_color='#3186cc',\n",
    "                      fill_opacity=0.7,\n",
    "                      parse_html=False).add_to(map_target)\n",
    "\n",
    "        \n",
    "#fig2.add_child(map_target)\n",
    "#folium.TileLayer('Stamen Terrain').add_to(map_target)\n",
    "#folium.TileLayer('Stamen Toner').add_to(m2)\n",
    "#folium.TileLayer('Stamen Water Color').add_to(map_target)\n",
    "#folium.TileLayer('cartodbpositron').add_to(map_target)\n",
    "#folium.TileLayer('cartodbdark_matter').add_to(map_target)\n",
    "#folium.LayerControl().add_to(map_target)\n",
    "\n",
    "map_target"
   ]
  },
  {
   "cell_type": "markdown",
   "id": "wound-committee",
   "metadata": {},
   "source": [
    "In the above map we can see all areas involved in this study. Here you can see blue and red circles, these circles represent the individual areas where we will search for amenities. A blue circle area is 1000 meters and the red circle area is 500 meters.\n",
    "\n",
    "We decided that for this study, to try to diminish overlapping between areas, particularly in Frankfurt am Main and in Offenbach am Main, we would have to different radius, hence 500 and 1000 meters."
   ]
  },
  {
   "cell_type": "markdown",
   "id": "stuck-parks",
   "metadata": {},
   "source": [
    "3. Using the Foursquare API let's collect the amenities data"
   ]
  },
  {
   "cell_type": "code",
   "execution_count": null,
   "id": "compound-toolbox",
   "metadata": {},
   "outputs": [],
   "source": [
    "#get foursquare data"
   ]
  },
  {
   "cell_type": "code",
   "execution_count": 31,
   "id": "orange-allocation",
   "metadata": {},
   "outputs": [],
   "source": [
    "#open file and read credentials\n",
    "f=open(\"foursquare_cred.txt\",\"r\")\n",
    "lines=f.readlines()\n",
    "clientId=lines[1].rstrip(\"\\n\")\n",
    "clientSecret=lines[3].rstrip(\"\\n\")\n",
    "f.close()"
   ]
  },
  {
   "cell_type": "code",
   "execution_count": 32,
   "id": "executive-international",
   "metadata": {},
   "outputs": [
    {
     "name": "stdout",
     "output_type": "stream",
     "text": [
      "Your credentials were uploaded!\n"
     ]
    }
   ],
   "source": [
    "CLIENT_ID = clientId # your Foursquare ID\n",
    "CLIENT_SECRET = clientSecret # your Foursquare Secret\n",
    "VERSION = '20180605' # Foursquare API version\n",
    "LIMIT = 100 # A default Foursquare API limit value\n",
    "\n",
    "print('Your credentials were uploaded!')"
   ]
  },
  {
   "cell_type": "code",
   "execution_count": 30,
   "id": "australian-specialist",
   "metadata": {},
   "outputs": [
    {
     "name": "stdout",
     "output_type": "stream",
     "text": [
      "fred and 500\n"
     ]
    }
   ],
   "source": [
    "name1 = \"fred\"\n",
    "radius1 = 500\n",
    "\n",
    "print(\"{} and {}\".format(name1, radius1))\n"
   ]
  },
  {
   "cell_type": "code",
   "execution_count": 38,
   "id": "brilliant-staff",
   "metadata": {},
   "outputs": [],
   "source": [
    "import requests\n",
    "\n",
    "def getNearbyAmenities(names, latitudes, longitudes):    \n",
    "    venues_list=[]\n",
    "    for name, lat, lng in zip(names, latitudes, longitudes):\n",
    "        if(name in ['Frankfurt am Main', 'Offenbach am Main']):\n",
    "            radius = 500\n",
    "            \n",
    "\n",
    "            # create the API request URL\n",
    "            url = 'https://api.foursquare.com/v2/venues/explore?&client_id={}&client_secret={}&v={}&ll={},{}&radius={}&limit={}'.format(\n",
    "                CLIENT_ID, \n",
    "                CLIENT_SECRET, \n",
    "                VERSION, \n",
    "                lat, \n",
    "                lng, \n",
    "                radius, \n",
    "                LIMIT)\n",
    "            \n",
    "            print(\"{} and {}\".format(name, radius))\n",
    "\n",
    "            # make the GET request\n",
    "            results = requests.get(url).json()[\"response\"]['groups'][0]['items']\n",
    "\n",
    "            # return only relevant information for each nearby venue\n",
    "            venues_list.append([(\n",
    "                name, \n",
    "                lat, \n",
    "                lng, \n",
    "                v['venue']['name'], \n",
    "                v['venue']['location']['lat'], \n",
    "                v['venue']['location']['lng'],  \n",
    "                v['venue']['categories'][0]['name']) for v in results])\n",
    "\n",
    "            nearby_venues = pd.DataFrame([item for venue_list in venues_list for item in venue_list])\n",
    "            nearby_venues.columns = ['Neighborhood', \n",
    "                          'Neighborhood Latitude', \n",
    "                          'Neighborhood Longitude', \n",
    "                          'Venue', \n",
    "                          'Venue Latitude', \n",
    "                          'Venue Longitude', \n",
    "                          'Venue Category']\n",
    "        else:\n",
    "            #print(\"fora\",name)\n",
    "            radius = 1000\n",
    "            # create the API request URL\n",
    "            url = 'https://api.foursquare.com/v2/venues/explore?&client_id={}&client_secret={}&v={}&ll={},{}&radius={}&limit={}'.format(\n",
    "                CLIENT_ID, \n",
    "                CLIENT_SECRET, \n",
    "                VERSION, \n",
    "                lat, \n",
    "                lng, \n",
    "                radius, \n",
    "                LIMIT)\n",
    "            \n",
    "            print(\"{} and {}\".format(name, radius))\n",
    "\n",
    "            # make the GET request\n",
    "            results = requests.get(url).json()[\"response\"]['groups'][0]['items']\n",
    "\n",
    "            # return only relevant information for each nearby venue\n",
    "            venues_list.append([(\n",
    "                name, \n",
    "                lat, \n",
    "                lng, \n",
    "                v['venue']['name'], \n",
    "                v['venue']['location']['lat'], \n",
    "                v['venue']['location']['lng'],  \n",
    "                v['venue']['categories'][0]['name']) for v in results])\n",
    "\n",
    "            nearby_venues = pd.DataFrame([item for venue_list in venues_list for item in venue_list])\n",
    "            nearby_venues.columns = ['Neighborhood', \n",
    "                          'Neighborhood Latitude', \n",
    "                          'Neighborhood Longitude', \n",
    "                          'Venue', \n",
    "                          'Venue Latitude', \n",
    "                          'Venue Longitude', \n",
    "                          'Venue Category']    \n",
    "    return(nearby_venues)"
   ]
  },
  {
   "cell_type": "code",
   "execution_count": 39,
   "id": "declared-intellectual",
   "metadata": {},
   "outputs": [
    {
     "name": "stdout",
     "output_type": "stream",
     "text": [
      "Bad Camberg and 1000\n",
      "Bad Homburg vor der Höhe and 1000\n"
     ]
    },
    {
     "ename": "KeyError",
     "evalue": "'groups'",
     "output_type": "error",
     "traceback": [
      "\u001b[1;31m---------------------------------------------------------------------------\u001b[0m",
      "\u001b[1;31mKeyError\u001b[0m                                  Traceback (most recent call last)",
      "\u001b[1;32m<ipython-input-39-7d40ae5b84de>\u001b[0m in \u001b[0;36m<module>\u001b[1;34m\u001b[0m\n\u001b[1;32m----> 1\u001b[1;33m amenities = getNearbyAmenities(names=am_df['Ort'],\n\u001b[0m\u001b[0;32m      2\u001b[0m                                    \u001b[0mlatitudes\u001b[0m\u001b[1;33m=\u001b[0m\u001b[0mam_df\u001b[0m\u001b[1;33m[\u001b[0m\u001b[1;34m'latitude'\u001b[0m\u001b[1;33m]\u001b[0m\u001b[1;33m,\u001b[0m\u001b[1;33m\u001b[0m\u001b[1;33m\u001b[0m\u001b[0m\n\u001b[0;32m      3\u001b[0m                                    \u001b[0mlongitudes\u001b[0m\u001b[1;33m=\u001b[0m\u001b[0mam_df\u001b[0m\u001b[1;33m[\u001b[0m\u001b[1;34m'longitude'\u001b[0m\u001b[1;33m]\u001b[0m\u001b[1;33m\u001b[0m\u001b[1;33m\u001b[0m\u001b[0m\n\u001b[0;32m      4\u001b[0m                                   )\n",
      "\u001b[1;32m<ipython-input-38-1cd3b32b3ea6>\u001b[0m in \u001b[0;36mgetNearbyAmenities\u001b[1;34m(names, latitudes, longitudes)\u001b[0m\n\u001b[0;32m     57\u001b[0m \u001b[1;33m\u001b[0m\u001b[0m\n\u001b[0;32m     58\u001b[0m             \u001b[1;31m# make the GET request\u001b[0m\u001b[1;33m\u001b[0m\u001b[1;33m\u001b[0m\u001b[1;33m\u001b[0m\u001b[0m\n\u001b[1;32m---> 59\u001b[1;33m             \u001b[0mresults\u001b[0m \u001b[1;33m=\u001b[0m \u001b[0mrequests\u001b[0m\u001b[1;33m.\u001b[0m\u001b[0mget\u001b[0m\u001b[1;33m(\u001b[0m\u001b[0murl\u001b[0m\u001b[1;33m)\u001b[0m\u001b[1;33m.\u001b[0m\u001b[0mjson\u001b[0m\u001b[1;33m(\u001b[0m\u001b[1;33m)\u001b[0m\u001b[1;33m[\u001b[0m\u001b[1;34m\"response\"\u001b[0m\u001b[1;33m]\u001b[0m\u001b[1;33m[\u001b[0m\u001b[1;34m'groups'\u001b[0m\u001b[1;33m]\u001b[0m\u001b[1;33m[\u001b[0m\u001b[1;36m0\u001b[0m\u001b[1;33m]\u001b[0m\u001b[1;33m[\u001b[0m\u001b[1;34m'items'\u001b[0m\u001b[1;33m]\u001b[0m\u001b[1;33m\u001b[0m\u001b[1;33m\u001b[0m\u001b[0m\n\u001b[0m\u001b[0;32m     60\u001b[0m \u001b[1;33m\u001b[0m\u001b[0m\n\u001b[0;32m     61\u001b[0m             \u001b[1;31m# return only relevant information for each nearby venue\u001b[0m\u001b[1;33m\u001b[0m\u001b[1;33m\u001b[0m\u001b[1;33m\u001b[0m\u001b[0m\n",
      "\u001b[1;31mKeyError\u001b[0m: 'groups'"
     ]
    }
   ],
   "source": [
    "amenities = getNearbyAmenities(names=am_df['Ort'],\n",
    "                                   latitudes=am_df['latitude'],\n",
    "                                   longitudes=am_df['longitude']\n",
    "                                  )"
   ]
  },
  {
   "cell_type": "code",
   "execution_count": 41,
   "id": "periodic-christmas",
   "metadata": {},
   "outputs": [
    {
     "ename": "NameError",
     "evalue": "name 'results' is not defined",
     "output_type": "error",
     "traceback": [
      "\u001b[1;31m---------------------------------------------------------------------------\u001b[0m",
      "\u001b[1;31mNameError\u001b[0m                                 Traceback (most recent call last)",
      "\u001b[1;32m<ipython-input-41-061d57c4df76>\u001b[0m in \u001b[0;36m<module>\u001b[1;34m\u001b[0m\n\u001b[1;32m----> 1\u001b[1;33m \u001b[0mprint\u001b[0m \u001b[1;33m(\u001b[0m\u001b[0mresults\u001b[0m\u001b[1;33m.\u001b[0m\u001b[0mcontent\u001b[0m\u001b[1;33m)\u001b[0m\u001b[1;33m\u001b[0m\u001b[1;33m\u001b[0m\u001b[0m\n\u001b[0m",
      "\u001b[1;31mNameError\u001b[0m: name 'results' is not defined"
     ]
    }
   ],
   "source": [
    "print (results.content)"
   ]
  },
  {
   "cell_type": "code",
   "execution_count": 42,
   "id": "matched-avenue",
   "metadata": {},
   "outputs": [
    {
     "ename": "NameError",
     "evalue": "name 'amenities' is not defined",
     "output_type": "error",
     "traceback": [
      "\u001b[1;31m---------------------------------------------------------------------------\u001b[0m",
      "\u001b[1;31mNameError\u001b[0m                                 Traceback (most recent call last)",
      "\u001b[1;32m<ipython-input-42-88f637b41b0e>\u001b[0m in \u001b[0;36m<module>\u001b[1;34m\u001b[0m\n\u001b[1;32m----> 1\u001b[1;33m \u001b[0mamenities\u001b[0m\u001b[1;33m\u001b[0m\u001b[1;33m\u001b[0m\u001b[0m\n\u001b[0m",
      "\u001b[1;31mNameError\u001b[0m: name 'amenities' is not defined"
     ]
    }
   ],
   "source": [
    "amenities"
   ]
  },
  {
   "cell_type": "code",
   "execution_count": null,
   "id": "conscious-talent",
   "metadata": {},
   "outputs": [],
   "source": [
    "print(amenities.shape)\n",
    "amenities.head()"
   ]
  },
  {
   "cell_type": "code",
   "execution_count": null,
   "id": "processed-enterprise",
   "metadata": {},
   "outputs": [],
   "source": [
    "amenities"
   ]
  },
  {
   "cell_type": "code",
   "execution_count": null,
   "id": "fresh-silence",
   "metadata": {},
   "outputs": [],
   "source": [
    "#analyse the data"
   ]
  },
  {
   "cell_type": "code",
   "execution_count": null,
   "id": "continental-declaration",
   "metadata": {},
   "outputs": [],
   "source": [
    "print('There are {} uniques categories.'.format(len(amenities['Venue Category'].unique())))"
   ]
  },
  {
   "cell_type": "code",
   "execution_count": null,
   "id": "varying-program",
   "metadata": {},
   "outputs": [],
   "source": [
    "df_am = amenities.copy()\n",
    "df_am.groupby('Venue Category').count()"
   ]
  },
  {
   "cell_type": "code",
   "execution_count": null,
   "id": "stupid-hours",
   "metadata": {},
   "outputs": [],
   "source": [
    "df_cat = df_am.groupby('Venue Category').count()"
   ]
  },
  {
   "cell_type": "code",
   "execution_count": null,
   "id": "removable-gospel",
   "metadata": {},
   "outputs": [],
   "source": [
    "#não testado\n",
    "def category_coder(category):\n",
    "    if(category in ['','']):\n",
    "        return pd.Series({'Coded_Cat': 'categ aqui'})\n",
    "    if(category in ['','']):\n",
    "        return pd.Series({'Coded_Cat': 'categ aqui'})\n",
    "    if(category in ['','']):\n",
    "        return pd.Series({'Coded_Cat': 'categ aqui'})    \n",
    "    return pd.Series({'Coded_Cat': 'Miscellaneous'})\n",
    "\n",
    "df[['Coded_Cat']] = df.Venue_Cat.apply(lambda x: category_coder(x) if x else None)"
   ]
  },
  {
   "cell_type": "code",
   "execution_count": null,
   "id": "bulgarian-assault",
   "metadata": {},
   "outputs": [],
   "source": [
    "#criar uma sub dataframe \n",
    "options = ['Bistro', 'Restaurant'] \n",
    "  \n",
    "# selecting rows based on condition \n",
    "rslt_df = df_am[df_am['Venue Category'].isin(options)] "
   ]
  },
  {
   "cell_type": "code",
   "execution_count": null,
   "id": "surgical-portland",
   "metadata": {},
   "outputs": [],
   "source": [
    "df_cat.reset_index(level=0, inplace=True)"
   ]
  },
  {
   "cell_type": "code",
   "execution_count": null,
   "id": "breathing-hunger",
   "metadata": {},
   "outputs": [],
   "source": [
    "df_cat"
   ]
  },
  {
   "cell_type": "code",
   "execution_count": null,
   "id": "sound-reggae",
   "metadata": {},
   "outputs": [],
   "source": [
    "df_am.groupby('Neighborhood').count()"
   ]
  },
  {
   "cell_type": "code",
   "execution_count": null,
   "id": "experienced-child",
   "metadata": {},
   "outputs": [],
   "source": [
    "#prepare data"
   ]
  },
  {
   "cell_type": "code",
   "execution_count": null,
   "id": "dimensional-product",
   "metadata": {},
   "outputs": [],
   "source": [
    "#vizualization stuff"
   ]
  },
  {
   "cell_type": "code",
   "execution_count": null,
   "id": "appreciated-stupid",
   "metadata": {},
   "outputs": [],
   "source": [
    "map_venues = folium.Map(location=center, zoom_start=10)\n",
    "\n",
    "# add markers to map\n",
    "for lat, lng, borough, neighborhood in zip(df_am['Venue Latitude'], df_am['Venue Longitude'], df_am['Venue'], df_am['Neighborhood']):\n",
    "    label = '{}, {}'.format(neighborhood, borough)\n",
    "    label = folium.Popup(label, parse_html=True)\n",
    "    folium.CircleMarker(\n",
    "        [lat, lng],\n",
    "        radius=5,\n",
    "        popup=label,\n",
    "        color='blue',\n",
    "        fill=True,\n",
    "        fill_color='#3186cc',\n",
    "        fill_opacity=0.7,\n",
    "        parse_html=False).add_to(map_venues)    \n",
    "map_venues"
   ]
  },
  {
   "cell_type": "code",
   "execution_count": null,
   "id": "female-toddler",
   "metadata": {},
   "outputs": [],
   "source": [
    "#Kmeans preparation - one hot "
   ]
  },
  {
   "cell_type": "code",
   "execution_count": null,
   "id": "norwegian-broad",
   "metadata": {},
   "outputs": [],
   "source": [
    "#evaluate best number of clusters"
   ]
  },
  {
   "cell_type": "code",
   "execution_count": null,
   "id": "greenhouse-thing",
   "metadata": {},
   "outputs": [],
   "source": [
    "#create kmeans"
   ]
  },
  {
   "cell_type": "code",
   "execution_count": null,
   "id": "heavy-graph",
   "metadata": {},
   "outputs": [],
   "source": [
    "#analyse clusters"
   ]
  },
  {
   "cell_type": "code",
   "execution_count": null,
   "id": "technological-manual",
   "metadata": {},
   "outputs": [],
   "source": [
    "#conclusions"
   ]
  }
 ],
 "metadata": {
  "kernelspec": {
   "display_name": "Python 3",
   "language": "python",
   "name": "python3"
  },
  "language_info": {
   "codemirror_mode": {
    "name": "ipython",
    "version": 3
   },
   "file_extension": ".py",
   "mimetype": "text/x-python",
   "name": "python",
   "nbconvert_exporter": "python",
   "pygments_lexer": "ipython3",
   "version": "3.8.5"
  },
  "widgets": {
   "application/vnd.jupyter.widget-state+json": {
    "state": {},
    "version_major": 2,
    "version_minor": 0
   }
  }
 },
 "nbformat": 4,
 "nbformat_minor": 5
}
